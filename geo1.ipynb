{
 "cells": [
  {
   "cell_type": "code",
   "execution_count": 3,
   "metadata": {},
   "outputs": [],
   "source": [
    "import pyodbc\n",
    "import numpy as np\n",
    "import pandas as pd\n",
    "import geopy"
   ]
  },
  
  {
   "cell_type": "markdown",
   "metadata": {},
   "source": [
    "#df_raw = pd.read_csv('CLIENTES_INDICADORES_202104101504.csv')\n",
    "df_raw = read_sql_query(\"SELECT a.[ID_CLIENTE]\n",
    "                      ,[label_kmeans_4_p1_y_p2]\n",
    "                      ,[label_kmeans_7_p1_y_p2]\n",
    "                      ,b.RESIDENCIA_PROVINCIA\n",
    "                      ,b.RESIDENCIA_DISTRITO\n",
    "                      ,b.RESIDENCIA_CORREGIMIENTO\n",
    "                      ,[SCORE_VC]\n",
    "                      FROM [dbo].[CLIENTES_CLUSTER_PROD] a\n",
    "                      INNER JOIN T_FACT_CLIENTES b\n",
    "                      ON a.ID_CLIENTE = b.ID_CLIENTE\", conn)\n",
    "df = df_raw.copy()"
   ]
  },
  {
   "cell_type": "code",
   "execution_count": 4,
   "metadata": {},
   "outputs": [],
   "source": [
    "data = pd.read_table(\"data.rpt\", delimiter=\"~\")"
   ]
  },
  {
   "cell_type": "code",
   "execution_count": 5,
   "metadata": {},
   "outputs": [],
   "source": [
    "d_inicial = pd.DataFrame(data)\n",
    "#d_inicial.tail()"
   ]
  },
  {
   "cell_type": "code",
   "execution_count": 6,
   "metadata": {},
   "outputs": [],
   "source": [
    "#df.drop([77478,77479], axis = 0)"
   ]
  },
  {
   "cell_type": "code",
   "execution_count": 7,
   "metadata": {},
   "outputs": [],
   "source": [
    "df1 = d_inicial.copy()"
   ]
  },
  {
   "cell_type": "code",
   "execution_count": 8,
   "metadata": {},
   "outputs": [],
   "source": [
    "def sin_residencia(df):\n",
    "    df['sin_residencia'] = df['RESIDENCIA_PROVINCIA']+ df['RESIDENCIA_DISTRITO']+ df['RESIDENCIA_CORREGIMIENTO']\n",
    "    return df"
   ]
  },
  {
   "cell_type": "code",
   "execution_count": 9,
   "metadata": {},
   "outputs": [],
   "source": [
    "def nulos(df):\n",
    "    df_ = df.dropna(subset=['label_kmeans_7_p1_y_p2'])\n",
    "    df_ = df.dropna(subset=['sin_residencia'])\n",
    "    return df_"
   ]
  },
  {
   "cell_type": "code",
   "execution_count": 10,
   "metadata": {},
   "outputs": [],
   "source": [
    "#df2 = sin_residencia(df)\n",
    "#df2.head()"
   ]
  },
  {
   "cell_type": "code",
   "execution_count": 11,
   "metadata": {},
   "outputs": [],
   "source": [
    "#provincia =df1['RESIDENCIA_PROVINCIA'].unique()\n",
    "#provincia"
   ]
  },
  {
   "cell_type": "code",
   "execution_count": 12,
   "metadata": {},
   "outputs": [],
   "source": [
    "#distrito =df1['RESIDENCIA_DISTRITO'].unique()\n",
    "#distrito"
   ]
  },
  {
   "cell_type": "code",
   "execution_count": 13,
   "metadata": {},
   "outputs": [],
   "source": [
    "def residencia_provincia(df):\n",
    "    df[\"RESIDENCIA_PROVINCIA\"] = df[\"RESIDENCIA_PROVINCIA\"].where(df[\"RESIDENCIA_PROVINCIA\"] != \"PANAMÁ\", \"PANAMA\")\n",
    "    df[\"RESIDENCIA_PROVINCIA\"] = df[\"RESIDENCIA_PROVINCIA\"].where(df[\"RESIDENCIA_PROVINCIA\"] != \"PANAMÁ OESTE\", \"PANAMA OESTE\")\n",
    "    df[\"RESIDENCIA_PROVINCIA\"] = df[\"RESIDENCIA_PROVINCIA\"].where(df[\"RESIDENCIA_PROVINCIA\"] != \"HERRERA\", \"HERRERA, PANAMA\")\n",
    "    df[\"RESIDENCIA_PROVINCIA\"] = df[\"RESIDENCIA_PROVINCIA\"].where(df[\"RESIDENCIA_PROVINCIA\"] != \"LOS SANTOS\", \"LOS SANTOS, PANAMA\")\n",
    "    df[\"RESIDENCIA_PROVINCIA\"] = df[\"RESIDENCIA_PROVINCIA\"].where(df[\"RESIDENCIA_PROVINCIA\"] != \"DARIEN\", \"DARIEN, PANAMA\")\n",
    "    df[\"RESIDENCIA_PROVINCIA\"] = df[\"RESIDENCIA_PROVINCIA\"].where(df[\"RESIDENCIA_DISTRITO\"] != \"ARRAIJAN\", \"PANAMA OESTE\")\n",
    "    df[\"RESIDENCIA_PROVINCIA\"] = df[\"RESIDENCIA_PROVINCIA\"].where(df[\"RESIDENCIA_DISTRITO\"] != \"CHORRERA\", \"PANAMA OESTE\")\n",
    "   # df[\"RESIDENCIA_DISTRITO\"] = df[\"RESIDENCIA_DISTRITO\"].where(df[\"RESIDENCIA_DISTRITO\"] != \"ARRAIJAN-PO\", \"ARRAIJAN\")\n",
    "   # df[\"RESIDENCIA_DISTRITO\"] = df[\"RESIDENCIA_DISTRITO\"].where(df[\"RESIDENCIA_DISTRITO\"] != \"PENONOMÉ\", \"PENONOME\")\n",
    "   # df[\"RESIDENCIA_DISTRITO\"] = df[\"RESIDENCIA_DISTRITO\"].where(df[\"RESIDENCIA_DISTRITO\"] != \"LA CHORRERA-PO\", \"LA CHORRERA\")\n",
    "   # df[\"RESIDENCIA_DISTRITO\"] = df[\"RESIDENCIA_DISTRITO\"].where(df[\"RESIDENCIA_DISTRITO\"] != \"SAN CARLOS-PO\", \"SAN CARLOS\")\n",
    "   # df[\"RESIDENCIA_DISTRITO\"] = df[\"RESIDENCIA_DISTRITO\"].where(df[\"RESIDENCIA_DISTRITO\"] != \"CHAME-PO\", \"CHAME\")\n",
    "    return df"
   ]
  },
  {
   "cell_type": "code",
   "execution_count": 14,
   "metadata": {},
   "outputs": [],
   "source": [
    "#df3 = residencia_provincia(df)\n",
    "#df3.head()"
   ]
  },
  {
   "cell_type": "code",
   "execution_count": 15,
   "metadata": {},
   "outputs": [],
   "source": [
    "#corregimiento =df1[df1['RESIDENCIA_PROVINCIA'] == 'PANAMA']['RESIDENCIA_CORREGIMIENTO'].unique()\n",
    "#corregimiento"
   ]
  },
  {
   "cell_type": "code",
   "execution_count": 16,
   "metadata": {},
   "outputs": [],
   "source": [
    "def residencia_corregimiento(df):\n",
    "    df[\"RESIDENCIA_CORREGIMIENTO\"] = df[\"RESIDENCIA_CORREGIMIENTO\"].where(df[\"RESIDENCIA_CORREGIMIENTO\"] != \"S. FRANCISCO\", \"SAN FRANCISCO\")\n",
    "    df[\"RESIDENCIA_CORREGIMIENTO\"] = df[\"RESIDENCIA_CORREGIMIENTO\"].where(df[\"RESIDENCIA_CORREGIMIENTO\"] != \"RUFINA ALFARO (SAN MIGUE PMA)\", \"RUFINA ALFARO\")\n",
    "    df[\"RESIDENCIA_CORREGIMIENTO\"] = df[\"RESIDENCIA_CORREGIMIENTO\"].where(df[\"RESIDENCIA_CORREGIMIENTO\"] != \"PARQUE LEFEBRE\", \"PARQUE LEFEVRE\")\n",
    "    df[\"RESIDENCIA_CORREGIMIENTO\"] = df[\"RESIDENCIA_CORREGIMIENTO\"].where(df[\"RESIDENCIA_CORREGIMIENTO\"] != \"BELISARIO PORRAS,(S.MIG.-PAMA)\",\"BELISARIO PORRAS\")\n",
    "    df[\"RESIDENCIA_CORREGIMIENTO\"] = df[\"RESIDENCIA_CORREGIMIENTO\"].where(df[\"RESIDENCIA_CORREGIMIENTO\"] != \"AMELIA DENIS DE ICAZA(S/M-PAMA\",\"AMELIA DENIS DE ICAZA\")                  \n",
    "    df[\"RESIDENCIA_CORREGIMIENTO\"] = df[\"RESIDENCIA_CORREGIMIENTO\"].where(df[\"RESIDENCIA_CORREGIMIENTO\"] != \"JOSE D.ESPINAR,(S.MIGTO.-PAMA)\",\"JOSE DOMINGO ESPINAR\")\n",
    "    df[\"RESIDENCIA_CORREGIMIENTO\"] = df[\"RESIDENCIA_CORREGIMIENTO\"].where(df[\"RESIDENCIA_CORREGIMIENTO\"] != \"LA EXP.CALIDONIA\",\"CALIDONIA\")\n",
    "    df[\"RESIDENCIA_CORREGIMIENTO\"] = df[\"RESIDENCIA_CORREGIMIENTO\"].where(df[\"RESIDENCIA_CORREGIMIENTO\"] != \"JOSE D.ESPINAR,(S.MIGTO.-PAMA) \",\"JOSE DOMINGO ESPINAR\")\n",
    "    df[\"RESIDENCIA_CORREGIMIENTO\"] = df[\"RESIDENCIA_CORREGIMIENTO\"].where(df[\"RESIDENCIA_CORREGIMIENTO\"] != \"JOS\\x11 D.ESPINAR,(S.MIGTO.-PAMA)\",\"JOSE DOMINGO ESPINAR\")\n",
    "    df[\"RESIDENCIA_CORREGIMIENTO\"] = df[\"RESIDENCIA_CORREGIMIENTO\"].where(df[\"RESIDENCIA_CORREGIMIENTO\"] != \"VICTORIANO LORENZO,(S.MGTO.-P/\",\"VICTORIANO LORENZO\")\n",
    "    df[\"RESIDENCIA_CORREGIMIENTO\"] = df[\"RESIDENCIA_CORREGIMIENTO\"].where(df[\"RESIDENCIA_CORREGIMIENTO\"] != \"MATEO ITURRALDE,(S.MGTO-PAMA).\",\"MATEO ITURRALDE\")\n",
    "    df[\"RESIDENCIA_CORREGIMIENTO\"] = df[\"RESIDENCIA_CORREGIMIENTO\"].where(df[\"RESIDENCIA_CORREGIMIENTO\"] != \"CHEPO,(CHEPO-PANAMA).\",\"CHEPO\")\n",
    "    df[\"RESIDENCIA_CORREGIMIENTO\"] = df[\"RESIDENCIA_CORREGIMIENTO\"].where(df[\"RESIDENCIA_CORREGIMIENTO\"] != \"CAPIRA,(CAPIRA-PANAMA).\",\"CAPIRA\")\n",
    "    df[\"RESIDENCIA_CORREGIMIENTO\"] = df[\"RESIDENCIA_CORREGIMIENTO\"].where(df[\"RESIDENCIA_CORREGIMIENTO\"] != \"CHAME,(CHAME-PANAMA).\",\"CHAME\")\n",
    "    df[\"RESIDENCIA_CORREGIMIENTO\"] = df[\"RESIDENCIA_CORREGIMIENTO\"].where(df[\"RESIDENCIA_CORREGIMIENTO\"] != \"LAS MARGARITAS,(CHEPO-PANAMA)\",\"LAS MARGARITAS\")\n",
    "    df[\"RESIDENCIA_CORREGIMIENTO\"] = df[\"RESIDENCIA_CORREGIMIENTO\"].where(df[\"RESIDENCIA_CORREGIMIENTO\"] != \"BELISARIO FRIAS(SAN MIGUE PMA)\",\"BELISARIO FRIAS\")\n",
    "    df[\"RESIDENCIA_CORREGIMIENTO\"] = df[\"RESIDENCIA_CORREGIMIENTO\"].where(df[\"RESIDENCIA_CORREGIMIENTO\"] != \"OMAR TORRIJOS (SAN MIGUE PMA)\",\"OMAR TORRIJOS\")\n",
    "    df[\"RESIDENCIA_CORREGIMIENTO\"] = df[\"RESIDENCIA_CORREGIMIENTO\"].where(df[\"RESIDENCIA_CORREGIMIENTO\"] != \"ARNULFO ARIAS (SAN MIG PANAMA)\",\"ARNULFO ARIAS\")\n",
    "    df[\"RESIDENCIA_CORREGIMIENTO\"] = df[\"RESIDENCIA_CORREGIMIENTO\"].where(df[\"RESIDENCIA_CORREGIMIENTO\"] != \"SAN CARLOS,(SAN CARLOS-PANAMA)\",\"SAN CARLOS\")\n",
    "    df[\"RESIDENCIA_CORREGIMIENTO\"] = df[\"RESIDENCIA_CORREGIMIENTO\"].where(df[\"RESIDENCIA_CORREGIMIENTO\"] != \"NUEVA GORGONA,(CHAME-PANAMA).\",\"NUEVA GORGONA\")\n",
    "    df[\"RESIDENCIA_CORREGIMIENTO\"] = df[\"RESIDENCIA_CORREGIMIENTO\"].where(df[\"RESIDENCIA_CORREGIMIENTO\"] != \"SAN JOSE,(SAN CARLOS-PANAMA).\",\"SAN CARLOS\")\n",
    "    df[\"RESIDENCIA_CORREGIMIENTO\"] = df[\"RESIDENCIA_CORREGIMIENTO\"].where(df[\"RESIDENCIA_CORREGIMIENTO\"] != \"VILLA ROSARIO,(CAPIRA-PANAMA)\",\"VILLA ROSARIO\")\n",
    "    df[\"RESIDENCIA_CORREGIMIENTO\"] = df[\"RESIDENCIA_CORREGIMIENTO\"].where(df[\"RESIDENCIA_CORREGIMIENTO\"] != \"LIDICE,(CAPIRA-PANAMA.)\",\"CAPIRA\")\n",
    "    df[\"RESIDENCIA_CORREGIMIENTO\"] = df[\"RESIDENCIA_CORREGIMIENTO\"].where(df[\"RESIDENCIA_CORREGIMIENTO\"] != \"BEJUCO,(CHAME-PANAMA.)\",\"BEJUCO\")\n",
    "    df[\"RESIDENCIA_CORREGIMIENTO\"] = df[\"RESIDENCIA_CORREGIMIENTO\"].where(df[\"RESIDENCIA_CORREGIMIENTO\"] != \"CAÑITA,(CHEPO-PANAMA)\",\"CHEPO\")\n",
    "    return df"
   ]
  },
  {
   "cell_type": "code",
   "execution_count": 17,
   "metadata": {},
   "outputs": [],
   "source": [
    "df4 = df1.copy()\n",
    "\n",
    "df5 = df4.pipe(sin_residencia)\\\n",
    "         .pipe(residencia_provincia)\\\n",
    "         .pipe(residencia_corregimiento)\n",
    "\n",
    "df5 = nulos(df5)"
   ]
  },
  {
   "cell_type": "code",
   "execution_count": 18,
   "metadata": {},
   "outputs": [],
   "source": [
    "#df5.tail(20)"
   ]
  },
  {
   "cell_type": "code",
   "execution_count": 19,
   "metadata": {},
   "outputs": [
    {
     "name": "stderr",
     "output_type": "stream",
     "text": [
      "<ipython-input-19-d0c50521fc9d>:1: SettingWithCopyWarning: \n",
      "A value is trying to be set on a copy of a slice from a DataFrame.\n",
      "Try using .loc[row_indexer,col_indexer] = value instead\n",
      "\n",
      "See the caveats in the documentation: https://pandas.pydata.org/pandas-docs/stable/user_guide/indexing.html#returning-a-view-versus-a-copy\n",
      "  df5['ubicacion'] = np.where(df5.RESIDENCIA_PROVINCIA.isin(['PANAMA']), df5['RESIDENCIA_CORREGIMIENTO'],'')\n"
     ]
    }
   ],
   "source": [
    "df5['ubicacion'] = np.where(df5.RESIDENCIA_PROVINCIA.isin(['PANAMA']), df5['RESIDENCIA_CORREGIMIENTO'],'')\n",
    "#print (df5)"
   ]
  },
  {
   "cell_type": "code",
   "execution_count": 20,
   "metadata": {},
   "outputs": [],
   "source": [
    "ubicaciones = pd.Series(df5['RESIDENCIA_PROVINCIA'].unique())\n",
    "#ubicaciones"
   ]
  },
  {
   "cell_type": "code",
   "execution_count": 21,
   "metadata": {},
   "outputs": [],
   "source": [
    "service = geopy.Nominatim(user_agent = \"myGeocoder\")"
   ]
  },
  {
   "cell_type": "code",
   "execution_count": 22,
   "metadata": {},
   "outputs": [],
   "source": [
    "#locaciones = []  # guarda como lista\n",
    "locaciones2 = pd.DataFrame(columns=['direccion', 'latitud', 'longitud']) # Guarda como data_frame\n",
    "for i in ubicaciones:\n",
    "    locationObj = service.geocode(i)\n",
    " #   locaciones.append(locationObj)  \n",
    "    locaciones2 = locaciones2.append({'direccion':  locationObj.address, \n",
    "                                       'latitud':   locationObj.latitude,\n",
    "                                       'longitud':  locationObj.longitude},  ignore_index=True)"
   ]
  },
  {
   "cell_type": "code",
   "execution_count": 23,
   "metadata": {},
   "outputs": [],
   "source": [
    "#locaciones2"
   ]
  },
  {
   "cell_type": "code",
   "execution_count": 24,
   "metadata": {},
   "outputs": [
    {
     "data": {
      "text/html": [
       "<div>\n",
       "<style scoped>\n",
       "    .dataframe tbody tr th:only-of-type {\n",
       "        vertical-align: middle;\n",
       "    }\n",
       "\n",
       "    .dataframe tbody tr th {\n",
       "        vertical-align: top;\n",
       "    }\n",
       "\n",
       "    .dataframe thead th {\n",
       "        text-align: right;\n",
       "    }\n",
       "</style>\n",
       "<table border=\"1\" class=\"dataframe\">\n",
       "  <thead>\n",
       "    <tr style=\"text-align: right;\">\n",
       "      <th></th>\n",
       "      <th>direccion</th>\n",
       "      <th>latitud</th>\n",
       "      <th>longitud</th>\n",
       "      <th>RESIDENCIA_PROVINCIA</th>\n",
       "    </tr>\n",
       "  </thead>\n",
       "  <tbody>\n",
       "    <tr>\n",
       "      <th>0</th>\n",
       "      <td>Panamá</td>\n",
       "      <td>8.559559</td>\n",
       "      <td>-81.130843</td>\n",
       "      <td>PANAMA</td>\n",
       "    </tr>\n",
       "    <tr>\n",
       "      <th>1</th>\n",
       "      <td>Colón, Barrio Sur, Distrito Colón, Colón, 9851...</td>\n",
       "      <td>9.355301</td>\n",
       "      <td>-79.897408</td>\n",
       "      <td>COLON</td>\n",
       "    </tr>\n",
       "    <tr>\n",
       "      <th>2</th>\n",
       "      <td>Coclé, Distrito Penonomé, Coclé, Panamá</td>\n",
       "      <td>8.460487</td>\n",
       "      <td>-80.430565</td>\n",
       "      <td>COCLE</td>\n",
       "    </tr>\n",
       "    <tr>\n",
       "      <th>3</th>\n",
       "      <td>Panamá Oeste, Panamá</td>\n",
       "      <td>8.704603</td>\n",
       "      <td>-79.870242</td>\n",
       "      <td>PANAMA OESTE</td>\n",
       "    </tr>\n",
       "    <tr>\n",
       "      <th>4</th>\n",
       "      <td>Herrera, Panamá</td>\n",
       "      <td>7.843277</td>\n",
       "      <td>-80.758770</td>\n",
       "      <td>HERRERA, PANAMA</td>\n",
       "    </tr>\n",
       "    <tr>\n",
       "      <th>5</th>\n",
       "      <td>Chiriquí, Distrito David, Chiriquí, Panamá</td>\n",
       "      <td>8.397113</td>\n",
       "      <td>-82.322344</td>\n",
       "      <td>CHIRIQUI</td>\n",
       "    </tr>\n",
       "    <tr>\n",
       "      <th>6</th>\n",
       "      <td>Distrito Bocas del Toro, Bocas del Toro, Panamá</td>\n",
       "      <td>9.304062</td>\n",
       "      <td>-82.128482</td>\n",
       "      <td>BOCAS DEL TORO</td>\n",
       "    </tr>\n",
       "    <tr>\n",
       "      <th>7</th>\n",
       "      <td>Veraguas, Panamá</td>\n",
       "      <td>8.029857</td>\n",
       "      <td>-81.253190</td>\n",
       "      <td>VERAGUAS</td>\n",
       "    </tr>\n",
       "    <tr>\n",
       "      <th>8</th>\n",
       "      <td>Museum of Kuna Cultura, Vía Nusagandi, Cartí, ...</td>\n",
       "      <td>9.470831</td>\n",
       "      <td>-78.960092</td>\n",
       "      <td>KUNA YALA (COMARCA)</td>\n",
       "    </tr>\n",
       "    <tr>\n",
       "      <th>9</th>\n",
       "      <td>Distrito Los Santos, Los Santos, Panamá</td>\n",
       "      <td>7.877347</td>\n",
       "      <td>-80.429062</td>\n",
       "      <td>LOS SANTOS, PANAMA</td>\n",
       "    </tr>\n",
       "    <tr>\n",
       "      <th>10</th>\n",
       "      <td>Darién, Panamá</td>\n",
       "      <td>8.215899</td>\n",
       "      <td>-78.017255</td>\n",
       "      <td>DARIEN, PANAMA</td>\n",
       "    </tr>\n",
       "    <tr>\n",
       "      <th>11</th>\n",
       "      <td>Bosque Natural BPPS Sector Ngobe Bugle (Este),...</td>\n",
       "      <td>8.828002</td>\n",
       "      <td>-82.267713</td>\n",
       "      <td>NGÖBE-BUGLÉ (COMARCA)</td>\n",
       "    </tr>\n",
       "    <tr>\n",
       "      <th>12</th>\n",
       "      <td>Comarca Emberá-Wounaan, Panamá</td>\n",
       "      <td>8.403038</td>\n",
       "      <td>-77.581562</td>\n",
       "      <td>EMBERÁ (COMARCA)</td>\n",
       "    </tr>\n",
       "  </tbody>\n",
       "</table>\n",
       "</div>"
      ],
      "text/plain": [
       "                                            direccion   latitud   longitud  \\\n",
       "0                                              Panamá  8.559559 -81.130843   \n",
       "1   Colón, Barrio Sur, Distrito Colón, Colón, 9851...  9.355301 -79.897408   \n",
       "2             Coclé, Distrito Penonomé, Coclé, Panamá  8.460487 -80.430565   \n",
       "3                                Panamá Oeste, Panamá  8.704603 -79.870242   \n",
       "4                                     Herrera, Panamá  7.843277 -80.758770   \n",
       "5          Chiriquí, Distrito David, Chiriquí, Panamá  8.397113 -82.322344   \n",
       "6     Distrito Bocas del Toro, Bocas del Toro, Panamá  9.304062 -82.128482   \n",
       "7                                    Veraguas, Panamá  8.029857 -81.253190   \n",
       "8   Museum of Kuna Cultura, Vía Nusagandi, Cartí, ...  9.470831 -78.960092   \n",
       "9             Distrito Los Santos, Los Santos, Panamá  7.877347 -80.429062   \n",
       "10                                     Darién, Panamá  8.215899 -78.017255   \n",
       "11  Bosque Natural BPPS Sector Ngobe Bugle (Este),...  8.828002 -82.267713   \n",
       "12                     Comarca Emberá-Wounaan, Panamá  8.403038 -77.581562   \n",
       "\n",
       "     RESIDENCIA_PROVINCIA  \n",
       "0                  PANAMA  \n",
       "1                   COLON  \n",
       "2                   COCLE  \n",
       "3            PANAMA OESTE  \n",
       "4         HERRERA, PANAMA  \n",
       "5                CHIRIQUI  \n",
       "6          BOCAS DEL TORO  \n",
       "7                VERAGUAS  \n",
       "8     KUNA YALA (COMARCA)  \n",
       "9      LOS SANTOS, PANAMA  \n",
       "10         DARIEN, PANAMA  \n",
       "11  NGÖBE-BUGLÉ (COMARCA)  \n",
       "12       EMBERÁ (COMARCA)  "
      ]
     },
     "execution_count": 24,
     "metadata": {},
     "output_type": "execute_result"
    }
   ],
   "source": [
    "locaciones2['RESIDENCIA_PROVINCIA'] = ubicaciones\n",
    "locaciones2"
   ]
  },
  {
   "cell_type": "code",
   "execution_count": 25,
   "metadata": {},
   "outputs": [],
   "source": [
    "ubicaciones2 = pd.DataFrame(df5[df5.RESIDENCIA_PROVINCIA=='PANAMA'].groupby('ubicacion').size())\n",
    "ubicaciones2['poblacion'] = ubicaciones2.index\n",
    "ubicaciones2['pais'] = \" ,PANAMA\"\n",
    "ubicaciones2['local'] =  ubicaciones2['poblacion'] + ubicaciones2['pais']\n",
    "#ubicaciones2.head()"
   ]
  },
  {
   "cell_type": "code",
   "execution_count": 26,
   "metadata": {},
   "outputs": [],
   "source": [
    "#ubicaciones2.sort_values(0, ascending = False)"
   ]
  },
  {
   "cell_type": "code",
   "execution_count": 27,
   "metadata": {},
   "outputs": [],
   "source": [
    "#import matplotlib as mp\n",
    "#ubicaciones2.plot()"
   ]
  },
  {
   "cell_type": "code",
   "execution_count": 28,
   "metadata": {},
   "outputs": [],
   "source": [
    "ubicaciones3 = ubicaciones2[ubicaciones2[0]>= 20]\n",
    "ubicaciones4 = ubicaciones3.local.unique()"
   ]
  },
  {
   "cell_type": "code",
   "execution_count": 29,
   "metadata": {},
   "outputs": [],
   "source": [
    "#locaciones = []  # guarda como lista\n",
    "locaciones3 = pd.DataFrame(columns=['direccion', 'latitud', 'longitud']) # Guarda como data_frame\n",
    "for i in ubicaciones4:\n",
    "    locationObj = service.geocode(i)\n",
    " #   locaciones.append(locationObj)  \n",
    "    locaciones3 = locaciones3.append({'direccion':  locationObj.address, \n",
    "                                       'latitud':   locationObj.latitude,\n",
    "                                       'longitud':  locationObj.longitude},  ignore_index=True)"
   ]
  },
  {
   "cell_type": "code",
   "execution_count": 30,
   "metadata": {},
   "outputs": [],
   "source": [
    "#ubicaciones3.head()"
   ]
  },
  {
   "cell_type": "code",
   "execution_count": 31,
   "metadata": {},
   "outputs": [],
   "source": [
    "#ubicaciones4"
   ]
  },
  {
   "cell_type": "code",
   "execution_count": 32,
   "metadata": {},
   "outputs": [
    {
     "data": {
      "text/html": [
       "<div>\n",
       "<style scoped>\n",
       "    .dataframe tbody tr th:only-of-type {\n",
       "        vertical-align: middle;\n",
       "    }\n",
       "\n",
       "    .dataframe tbody tr th {\n",
       "        vertical-align: top;\n",
       "    }\n",
       "\n",
       "    .dataframe thead th {\n",
       "        text-align: right;\n",
       "    }\n",
       "</style>\n",
       "<table border=\"1\" class=\"dataframe\">\n",
       "  <thead>\n",
       "    <tr style=\"text-align: right;\">\n",
       "      <th></th>\n",
       "      <th>direccion</th>\n",
       "      <th>latitud</th>\n",
       "      <th>longitud</th>\n",
       "    </tr>\n",
       "  </thead>\n",
       "  <tbody>\n",
       "    <tr>\n",
       "      <th>0</th>\n",
       "      <td>24 de Diciembre, Distrito Panamá, Panamá</td>\n",
       "      <td>9.098718</td>\n",
       "      <td>-79.362788</td>\n",
       "    </tr>\n",
       "    <tr>\n",
       "      <th>1</th>\n",
       "      <td>Alcalde Díaz, Distrito Panamá, Panamá</td>\n",
       "      <td>9.117483</td>\n",
       "      <td>-79.540888</td>\n",
       "    </tr>\n",
       "    <tr>\n",
       "      <th>2</th>\n",
       "      <td>Amelia Denis de Icaza, Distrito San Miguelito,...</td>\n",
       "      <td>9.040409</td>\n",
       "      <td>-79.513224</td>\n",
       "    </tr>\n",
       "    <tr>\n",
       "      <th>3</th>\n",
       "      <td>Ancón, Distrito Panamá, Panamá</td>\n",
       "      <td>9.039752</td>\n",
       "      <td>-79.586423</td>\n",
       "    </tr>\n",
       "    <tr>\n",
       "      <th>4</th>\n",
       "      <td>Arnulfo Arias, Distrito San Miguelito, Panamá</td>\n",
       "      <td>9.066545</td>\n",
       "      <td>-79.482050</td>\n",
       "    </tr>\n",
       "    <tr>\n",
       "      <th>5</th>\n",
       "      <td>Bejuco, Calovébora, Distrito Santa Fé, Veragua...</td>\n",
       "      <td>8.817426</td>\n",
       "      <td>-81.037474</td>\n",
       "    </tr>\n",
       "    <tr>\n",
       "      <th>6</th>\n",
       "      <td>Belisario Frías, Distrito San Miguelito, Panamá</td>\n",
       "      <td>9.077064</td>\n",
       "      <td>-79.488830</td>\n",
       "    </tr>\n",
       "    <tr>\n",
       "      <th>7</th>\n",
       "      <td>Belisario Porras, Distrito San Miguelito, Panamá</td>\n",
       "      <td>9.053952</td>\n",
       "      <td>-79.499893</td>\n",
       "    </tr>\n",
       "    <tr>\n",
       "      <th>8</th>\n",
       "      <td>Bella Vista, Distrito Panamá, Panamá</td>\n",
       "      <td>8.985295</td>\n",
       "      <td>-79.524019</td>\n",
       "    </tr>\n",
       "    <tr>\n",
       "      <th>9</th>\n",
       "      <td>Bethania, Distrito Panamá, Panamá</td>\n",
       "      <td>9.012685</td>\n",
       "      <td>-79.529207</td>\n",
       "    </tr>\n",
       "    <tr>\n",
       "      <th>10</th>\n",
       "      <td>Panamá, Calidonia, Distrito Panamá, Panamá, 08...</td>\n",
       "      <td>8.971449</td>\n",
       "      <td>-79.534180</td>\n",
       "    </tr>\n",
       "    <tr>\n",
       "      <th>11</th>\n",
       "      <td>Distrito Capira, Panamá Oeste, Panamá</td>\n",
       "      <td>8.816467</td>\n",
       "      <td>-80.042596</td>\n",
       "    </tr>\n",
       "    <tr>\n",
       "      <th>12</th>\n",
       "      <td>Distrito Chame, Panamá Oeste, Panamá</td>\n",
       "      <td>8.614144</td>\n",
       "      <td>-79.902449</td>\n",
       "    </tr>\n",
       "    <tr>\n",
       "      <th>13</th>\n",
       "      <td>Chepo, Distrito Chepo, Panamá</td>\n",
       "      <td>9.174116</td>\n",
       "      <td>-79.090005</td>\n",
       "    </tr>\n",
       "    <tr>\n",
       "      <th>14</th>\n",
       "      <td>Chilibre, Distrito Panamá, Panamá</td>\n",
       "      <td>9.147529</td>\n",
       "      <td>-79.619624</td>\n",
       "    </tr>\n",
       "    <tr>\n",
       "      <th>15</th>\n",
       "      <td>Curundú, Distrito Panamá, Panamá</td>\n",
       "      <td>8.979601</td>\n",
       "      <td>-79.537680</td>\n",
       "    </tr>\n",
       "    <tr>\n",
       "      <th>16</th>\n",
       "      <td>El Chorrillo, Distrito Panamá, Panamá</td>\n",
       "      <td>8.948771</td>\n",
       "      <td>-79.543993</td>\n",
       "    </tr>\n",
       "    <tr>\n",
       "      <th>17</th>\n",
       "      <td>Ernesto Córdoba Campos, Distrito Panamá, Panamá</td>\n",
       "      <td>9.104657</td>\n",
       "      <td>-79.493215</td>\n",
       "    </tr>\n",
       "    <tr>\n",
       "      <th>18</th>\n",
       "      <td>José Domingo Espinar, Distrito San Miguelito, ...</td>\n",
       "      <td>9.046939</td>\n",
       "      <td>-79.477307</td>\n",
       "    </tr>\n",
       "    <tr>\n",
       "      <th>19</th>\n",
       "      <td>Juan Díaz, Distrito Panamá, Panamá</td>\n",
       "      <td>9.043179</td>\n",
       "      <td>-79.444052</td>\n",
       "    </tr>\n",
       "    <tr>\n",
       "      <th>20</th>\n",
       "      <td>Las Cumbres, Distrito Panamá, Panamá</td>\n",
       "      <td>9.092346</td>\n",
       "      <td>-79.555627</td>\n",
       "    </tr>\n",
       "    <tr>\n",
       "      <th>21</th>\n",
       "      <td>Las Margaritas, Distrito Chepo, Panamá</td>\n",
       "      <td>9.189846</td>\n",
       "      <td>-79.085083</td>\n",
       "    </tr>\n",
       "    <tr>\n",
       "      <th>22</th>\n",
       "      <td>Las Mañanitas, Distrito Panamá, Panamá</td>\n",
       "      <td>9.093193</td>\n",
       "      <td>-79.403861</td>\n",
       "    </tr>\n",
       "    <tr>\n",
       "      <th>23</th>\n",
       "      <td>Mateo Iturralde, Distrito San Miguelito, Panamá</td>\n",
       "      <td>9.033927</td>\n",
       "      <td>-79.497121</td>\n",
       "    </tr>\n",
       "    <tr>\n",
       "      <th>24</th>\n",
       "      <td>Nueva Gorgona, Distrito Chame, Panamá Oeste, P...</td>\n",
       "      <td>8.558229</td>\n",
       "      <td>-79.875608</td>\n",
       "    </tr>\n",
       "    <tr>\n",
       "      <th>25</th>\n",
       "      <td>Distrito Omar Torrijos Herrera, Colón, Panamá</td>\n",
       "      <td>8.872532</td>\n",
       "      <td>-80.597334</td>\n",
       "    </tr>\n",
       "    <tr>\n",
       "      <th>26</th>\n",
       "      <td>Pacora, Distrito Panamá, Panamá</td>\n",
       "      <td>9.082983</td>\n",
       "      <td>-79.290367</td>\n",
       "    </tr>\n",
       "    <tr>\n",
       "      <th>27</th>\n",
       "      <td>Parque Lefevre, Distrito Panamá, Panamá</td>\n",
       "      <td>9.016405</td>\n",
       "      <td>-79.482856</td>\n",
       "    </tr>\n",
       "    <tr>\n",
       "      <th>28</th>\n",
       "      <td>Pedregal, Distrito Panamá, Panamá</td>\n",
       "      <td>9.072804</td>\n",
       "      <td>-79.426592</td>\n",
       "    </tr>\n",
       "    <tr>\n",
       "      <th>29</th>\n",
       "      <td>Pueblo Nuevo, Distrito Panamá, Panamá</td>\n",
       "      <td>9.011736</td>\n",
       "      <td>-79.511941</td>\n",
       "    </tr>\n",
       "    <tr>\n",
       "      <th>30</th>\n",
       "      <td>Río Abajo, Distrito Panamá, Panamá</td>\n",
       "      <td>9.023444</td>\n",
       "      <td>-79.496483</td>\n",
       "    </tr>\n",
       "    <tr>\n",
       "      <th>31</th>\n",
       "      <td>Rufina Alfaro, Distrito San Miguelito, Panamá</td>\n",
       "      <td>9.069196</td>\n",
       "      <td>-79.453957</td>\n",
       "    </tr>\n",
       "    <tr>\n",
       "      <th>32</th>\n",
       "      <td>Distrito San Carlos, Panamá Oeste, Panamá</td>\n",
       "      <td>8.472706</td>\n",
       "      <td>-79.956198</td>\n",
       "    </tr>\n",
       "    <tr>\n",
       "      <th>33</th>\n",
       "      <td>San Felipe, Distrito Panamá, Panamá</td>\n",
       "      <td>8.952532</td>\n",
       "      <td>-79.535439</td>\n",
       "    </tr>\n",
       "    <tr>\n",
       "      <th>34</th>\n",
       "      <td>Distrito San Francisco, Veraguas, Panamá</td>\n",
       "      <td>8.299948</td>\n",
       "      <td>-81.010664</td>\n",
       "    </tr>\n",
       "    <tr>\n",
       "      <th>35</th>\n",
       "      <td>San Martín, Distrito Panamá, Panamá</td>\n",
       "      <td>9.202186</td>\n",
       "      <td>-79.240003</td>\n",
       "    </tr>\n",
       "    <tr>\n",
       "      <th>36</th>\n",
       "      <td>Santa Ana, Distrito Panamá, Panamá</td>\n",
       "      <td>8.956948</td>\n",
       "      <td>-79.538708</td>\n",
       "    </tr>\n",
       "    <tr>\n",
       "      <th>37</th>\n",
       "      <td>Tocumen, Distrito Panamá, Panamá</td>\n",
       "      <td>9.092036</td>\n",
       "      <td>-79.381669</td>\n",
       "    </tr>\n",
       "    <tr>\n",
       "      <th>38</th>\n",
       "      <td>Victoriano Lorenzo, Distrito San Miguelito, Pa...</td>\n",
       "      <td>9.032233</td>\n",
       "      <td>-79.508085</td>\n",
       "    </tr>\n",
       "    <tr>\n",
       "      <th>39</th>\n",
       "      <td>Villa Rosario, Distrito Capira, Panamá Oeste, ...</td>\n",
       "      <td>8.780020</td>\n",
       "      <td>-79.871837</td>\n",
       "    </tr>\n",
       "  </tbody>\n",
       "</table>\n",
       "</div>"
      ],
      "text/plain": [
       "                                            direccion   latitud   longitud\n",
       "0            24 de Diciembre, Distrito Panamá, Panamá  9.098718 -79.362788\n",
       "1               Alcalde Díaz, Distrito Panamá, Panamá  9.117483 -79.540888\n",
       "2   Amelia Denis de Icaza, Distrito San Miguelito,...  9.040409 -79.513224\n",
       "3                      Ancón, Distrito Panamá, Panamá  9.039752 -79.586423\n",
       "4       Arnulfo Arias, Distrito San Miguelito, Panamá  9.066545 -79.482050\n",
       "5   Bejuco, Calovébora, Distrito Santa Fé, Veragua...  8.817426 -81.037474\n",
       "6     Belisario Frías, Distrito San Miguelito, Panamá  9.077064 -79.488830\n",
       "7    Belisario Porras, Distrito San Miguelito, Panamá  9.053952 -79.499893\n",
       "8                Bella Vista, Distrito Panamá, Panamá  8.985295 -79.524019\n",
       "9                   Bethania, Distrito Panamá, Panamá  9.012685 -79.529207\n",
       "10  Panamá, Calidonia, Distrito Panamá, Panamá, 08...  8.971449 -79.534180\n",
       "11              Distrito Capira, Panamá Oeste, Panamá  8.816467 -80.042596\n",
       "12               Distrito Chame, Panamá Oeste, Panamá  8.614144 -79.902449\n",
       "13                      Chepo, Distrito Chepo, Panamá  9.174116 -79.090005\n",
       "14                  Chilibre, Distrito Panamá, Panamá  9.147529 -79.619624\n",
       "15                   Curundú, Distrito Panamá, Panamá  8.979601 -79.537680\n",
       "16              El Chorrillo, Distrito Panamá, Panamá  8.948771 -79.543993\n",
       "17    Ernesto Córdoba Campos, Distrito Panamá, Panamá  9.104657 -79.493215\n",
       "18  José Domingo Espinar, Distrito San Miguelito, ...  9.046939 -79.477307\n",
       "19                 Juan Díaz, Distrito Panamá, Panamá  9.043179 -79.444052\n",
       "20               Las Cumbres, Distrito Panamá, Panamá  9.092346 -79.555627\n",
       "21             Las Margaritas, Distrito Chepo, Panamá  9.189846 -79.085083\n",
       "22             Las Mañanitas, Distrito Panamá, Panamá  9.093193 -79.403861\n",
       "23    Mateo Iturralde, Distrito San Miguelito, Panamá  9.033927 -79.497121\n",
       "24  Nueva Gorgona, Distrito Chame, Panamá Oeste, P...  8.558229 -79.875608\n",
       "25      Distrito Omar Torrijos Herrera, Colón, Panamá  8.872532 -80.597334\n",
       "26                    Pacora, Distrito Panamá, Panamá  9.082983 -79.290367\n",
       "27            Parque Lefevre, Distrito Panamá, Panamá  9.016405 -79.482856\n",
       "28                  Pedregal, Distrito Panamá, Panamá  9.072804 -79.426592\n",
       "29              Pueblo Nuevo, Distrito Panamá, Panamá  9.011736 -79.511941\n",
       "30                 Río Abajo, Distrito Panamá, Panamá  9.023444 -79.496483\n",
       "31      Rufina Alfaro, Distrito San Miguelito, Panamá  9.069196 -79.453957\n",
       "32          Distrito San Carlos, Panamá Oeste, Panamá  8.472706 -79.956198\n",
       "33                San Felipe, Distrito Panamá, Panamá  8.952532 -79.535439\n",
       "34           Distrito San Francisco, Veraguas, Panamá  8.299948 -81.010664\n",
       "35                San Martín, Distrito Panamá, Panamá  9.202186 -79.240003\n",
       "36                 Santa Ana, Distrito Panamá, Panamá  8.956948 -79.538708\n",
       "37                   Tocumen, Distrito Panamá, Panamá  9.092036 -79.381669\n",
       "38  Victoriano Lorenzo, Distrito San Miguelito, Pa...  9.032233 -79.508085\n",
       "39  Villa Rosario, Distrito Capira, Panamá Oeste, ...  8.780020 -79.871837"
      ]
     },
     "execution_count": 32,
     "metadata": {},
     "output_type": "execute_result"
    }
   ],
   "source": [
    "locaciones3"
   ]
  },
  {
   "cell_type": "code",
   "execution_count": 33,
   "metadata": {},
   "outputs": [],
   "source": [
    "locaciones3['R_C'] = ubicaciones4\n",
    "locaciones3['RESIDENCIA_CORREGIMIENTO'] = ubicaciones3.index"
   ]
  },
  {
   "cell_type": "code",
   "execution_count": 34,
   "metadata": {},
   "outputs": [],
   "source": [
    "#locaciones3"
   ]
  },
  {
   "cell_type": "code",
   "execution_count": 35,
   "metadata": {},
   "outputs": [],
   "source": [
    "df6 = pd.merge(df5, locaciones2, on = 'RESIDENCIA_PROVINCIA' )\n",
    "df6 = pd.merge(df6, locaciones3, how= 'left', on = 'RESIDENCIA_CORREGIMIENTO') "
   ]
  },
  {
   "cell_type": "code",
   "execution_count": 36,
   "metadata": {},
   "outputs": [
    {
     "data": {
      "text/plain": [
       "Index(['ID_CLIENTE', 'label_kmeans_4_p1_y_p2', 'label_kmeans_7_p1_y_p2',\n",
       "       'RESIDENCIA_PROVINCIA', 'RESIDENCIA_DISTRITO',\n",
       "       'RESIDENCIA_CORREGIMIENTO', 'sin_residencia', 'ubicacion',\n",
       "       'direccion_provincia', 'latitud_provincia', 'longitud_provincia',\n",
       "       'direccion_corregimiento', 'latitud_corregimiento',\n",
       "       'longitud_corregimiento', 'R_C'],\n",
       "      dtype='object')"
      ]
     },
     "execution_count": 36,
     "metadata": {},
     "output_type": "execute_result"
    }
   ],
   "source": [
    "df6.columns = ['ID_CLIENTE', 'label_kmeans_4_p1_y_p2','label_kmeans_7_p1_y_p2', 'RESIDENCIA_PROVINCIA', 'RESIDENCIA_DISTRITO'\n",
    "           ,'RESIDENCIA_CORREGIMIENTO','sin_residencia', 'ubicacion', 'direccion_provincia', 'latitud_provincia'\n",
    "           ,'longitud_provincia', 'direccion_corregimiento', 'latitud_corregimiento', 'longitud_corregimiento', 'R_C']\n",
    "df6.columns"
   ]
  },
  {
   "cell_type": "code",
   "execution_count": 37,
   "metadata": {},
   "outputs": [],
   "source": [
    "#df6.loc[30000:30050,['ID_CLIENTE', 'RESIDENCIA_PROVINCIA', 'RESIDENCIA_CORREGIMIENTO','latitud_x', 'longitud_x','latitud_y', 'longitud_y' ]]"
   ]
  },
  {
   "cell_type": "code",
   "execution_count": 38,
   "metadata": {},
   "outputs": [],
   "source": [
    "#df6[df6.latitud_y.isnull()]"
   ]
  },
  {
   "cell_type": "code",
   "execution_count": 39,
   "metadata": {},
   "outputs": [
    {
     "data": {
      "text/plain": [
       "(66302, 15)"
      ]
     },
     "execution_count": 39,
     "metadata": {},
     "output_type": "execute_result"
    }
   ],
   "source": [
    "df6.shape"
   ]
  },
  {
   "cell_type": "code",
   "execution_count": 40,
   "metadata": {},
   "outputs": [
    {
     "name": "stdout",
     "output_type": "stream",
     "text": [
      "ID_CLIENTE\n",
      "label_kmeans_4_p1_y_p2\n",
      "label_kmeans_7_p1_y_p2\n",
      "RESIDENCIA_PROVINCIA\n",
      "RESIDENCIA_DISTRITO\n",
      "RESIDENCIA_CORREGIMIENTO\n",
      "sin_residencia\n",
      "ubicacion\n",
      "direccion_provincia\n",
      "latitud_provincia\n",
      "longitud_provincia\n",
      "direccion_corregimiento\n",
      "latitud_corregimiento\n",
      "longitud_corregimiento\n",
      "R_C\n"
     ]
    }
   ],
   "source": [
    "for col in df6.columns:\n",
    "    print(col)"
   ]
  },
  {
   "cell_type": "code",
   "execution_count": 41,
   "metadata": {},
   "outputs": [],
   "source": [
    "df6['latitud'] = df6['latitud_corregimiento']\n",
    "df6.loc[df6['latitud_corregimiento'].isnull(), 'latitud'] = df6['latitud_provincia']\n",
    "\n",
    "df6['longitud'] = df6['longitud_corregimiento']\n",
    "df6.loc[df6['longitud_corregimiento'].isnull(), 'longitud'] = df6['longitud_provincia']"
   ]
  },
  {
   "cell_type": "code",
   "execution_count": 42,
   "metadata": {},
   "outputs": [],
   "source": [
    "#df6[df6['latitud_corregimiento'].isnull()]"
   ]
  },
  {
   "cell_type": "code",
   "execution_count": 43,
   "metadata": {},
   "outputs": [],
   "source": [
    "#df6[df6['longitud_corregimiento'].isnull()]"
   ]
  },
  {
   "cell_type": "code",
   "execution_count": 44,
   "metadata": {},
   "outputs": [],
   "source": [
    "#df6.to_csv('data_geo.csv')"
   ]
  },
  {
   "cell_type": "code",
   "execution_count": 45,
   "metadata": {},
   "outputs": [],
   "source": [
    "seleccion = ['ID_CLIENTE', 'label_kmeans_7_p1_y_p2', 'latitud','longitud']\n",
    "df7 = df6[seleccion]"
   ]
  },
  {
   "cell_type": "code",
   "execution_count": 46,
   "metadata": {},
   "outputs": [],
   "source": [
    "#df7.shape()"
   ]
  }
 ],
 "metadata": {
  "kernelspec": {
   "display_name": "Python 3",
   "language": "python",
   "name": "python3"
  },
  "language_info": {
   "codemirror_mode": {
    "name": "ipython",
    "version": 3
   },
   "file_extension": ".py",
   "mimetype": "text/x-python",
   "name": "python",
   "nbconvert_exporter": "python",
   "pygments_lexer": "ipython3",
   "version": "3.8.3"
  }
 },
 "nbformat": 4,
 "nbformat_minor": 4
}
