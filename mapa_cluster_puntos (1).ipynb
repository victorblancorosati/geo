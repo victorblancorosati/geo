{
 "cells": [
  {
   "cell_type": "code",
   "execution_count": 1,
   "metadata": {},
   "outputs": [],
   "source": [
    "import numpy as np\n",
    "import pandas as pd\n",
    "import folium\n",
    "from folium import Choropleth, Circle, Marker\n",
    "from folium.plugins import HeatMap, MarkerCluster\n",
    "from folium.features import DivIcon"
   ]
  },
  {
   "cell_type": "code",
   "execution_count": 2,
   "metadata": {},
   "outputs": [],
   "source": [
    "data = pd.read_csv(\"data_geo.csv\")\n",
    "#df = pd.DataFrame(data)\n",
    "#df.head()"
   ]
  },
  {
   "cell_type": "code",
   "execution_count": 3,
   "metadata": {},
   "outputs": [
    {
     "ename": "NameError",
     "evalue": "name 'df' is not defined",
     "output_type": "error",
     "traceback": [
      "\u001b[1;31m---------------------------------------------------------------------------\u001b[0m",
      "\u001b[1;31mNameError\u001b[0m                                 Traceback (most recent call last)",
      "\u001b[1;32m<ipython-input-3-f2cff0a1ab4e>\u001b[0m in \u001b[0;36m<module>\u001b[1;34m\u001b[0m\n\u001b[1;32m----> 1\u001b[1;33m \u001b[0mdf\u001b[0m\u001b[1;33m.\u001b[0m\u001b[0mgroupby\u001b[0m\u001b[1;33m(\u001b[0m\u001b[1;33m[\u001b[0m\u001b[1;34m'label_kmeans_7_p1_y_p2'\u001b[0m\u001b[1;33m]\u001b[0m\u001b[1;33m)\u001b[0m\u001b[1;33m[\u001b[0m\u001b[1;34m'ID_CLIENTE'\u001b[0m\u001b[1;33m]\u001b[0m\u001b[1;33m.\u001b[0m\u001b[0msize\u001b[0m\u001b[1;33m(\u001b[0m\u001b[1;33m)\u001b[0m\u001b[1;33m\u001b[0m\u001b[1;33m\u001b[0m\u001b[0m\n\u001b[0m",
      "\u001b[1;31mNameError\u001b[0m: name 'df' is not defined"
     ]
    }
   ],
   "source": [
    "df.groupby(['label_kmeans_7_p1_y_p2'])['ID_CLIENTE'].size()"
   ]
  },
  {
   "cell_type": "markdown",
   "metadata": {},
   "source": [
    "for index, row in df_agrupado.iterrows():\n",
    "    print(row['latitud'], row['longitud'])"
   ]
  },
  {
   "cell_type": "code",
   "execution_count": null,
   "metadata": {},
   "outputs": [],
   "source": [
    "# Crear un mapa\n",
    "m_4 = folium.Map(location=[8.559559,-81.1308434], tiles='cartodbpositron', zoom_start=8)\n",
    "\n",
    "# Asignar colores a los puntos\n",
    "def color_producer(val):\n",
    "    if val == 0:\n",
    "        return 'bisque'\n",
    "    if val == 1:\n",
    "        return 'paleturquoise'\n",
    "    if val == 2:\n",
    "        return 'forestgreen'\n",
    "    if val == 3:\n",
    "        return 'maroon'\n",
    "    if val == 4:\n",
    "        return 'darkorange'\n",
    "    if val == 5:\n",
    "        return 'navy'\n",
    "    else:\n",
    "        return 'darkred'\n",
    "\n",
    "# Añadir marcas al mapa\n",
    "for i in range(0,len(df)):\n",
    "    Circle(\n",
    "        location=[df.iloc[i]['latitud'], df.iloc[i]['longitud']],\n",
    "        radius=20,\n",
    "        color=color_producer(df.iloc[i]['label_kmeans_7_p1_y_p2'])).add_to(m_4)\n",
    "    \n",
    "# Display the map\n",
    "#m_4"
   ]
  },
  {
   "cell_type": "code",
   "execution_count": 5,
   "metadata": {},
   "outputs": [],
   "source": [
    "m_4.save('m_4.html')"
   ]
  }
 ],
 "metadata": {
  "kernelspec": {
   "display_name": "Python 3",
   "language": "python",
   "name": "python3"
  },
  "language_info": {
   "codemirror_mode": {
    "name": "ipython",
    "version": 3
   },
   "file_extension": ".py",
   "mimetype": "text/x-python",
   "name": "python",
   "nbconvert_exporter": "python",
   "pygments_lexer": "ipython3",
   "version": "3.8.3"
  }
 },
 "nbformat": 4,
 "nbformat_minor": 4
}
