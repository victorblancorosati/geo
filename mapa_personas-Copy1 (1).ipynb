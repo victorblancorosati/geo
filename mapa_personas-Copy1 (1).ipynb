{
 "cells": [
  {
   "cell_type": "code",
   "execution_count": 6,
   "metadata": {},
   "outputs": [],
   "source": [
    "# Mapa por cluster"
   ]
  },
  {
   "cell_type": "code",
   "execution_count": 1,
   "metadata": {},
   "outputs": [],
   "source": [
    "import numpy as np\n",
    "import pandas as pd\n",
    "import folium\n",
    "from folium import Choropleth, Circle, Marker\n",
    "from folium.plugins import HeatMap, MarkerCluster\n",
    "from folium import plugins"
   ]
  },
  {
   "cell_type": "code",
   "execution_count": 2,
   "metadata": {},
   "outputs": [],
   "source": [
    "data = pd.read_csv(\"data_geo.csv\")\n",
    "df = pd.DataFrame(data)\n",
    "#df.head()"
   ]
  },
  {
   "cell_type": "code",
   "execution_count": 3,
   "metadata": {},
   "outputs": [],
   "source": [
    "df_agrupado = pd.DataFrame(df.groupby(['latitud', 'longitud', 'label_kmeans_7_p1_y_p2'])['ID_CLIENTE'].size()).reset_index()\n",
    "#df_agrupado.head()"
   ]
  },
  {
   "cell_type": "code",
   "execution_count": 7,
   "metadata": {},
   "outputs": [
    {
     "data": {
      "text/plain": [
       "<folium.map.LayerControl at 0x23317909910>"
      ]
     },
     "execution_count": 7,
     "metadata": {},
     "output_type": "execute_result"
    }
   ],
   "source": [
    "# Crear un mapa\n",
    "m_4 = folium.Map(location=[8.559559,-81.1308434], tiles='cartodbpositron', zoom_start=8)\n",
    "\n",
    "fg = folium.FeatureGroup(name=\"groups\")\n",
    "m_4.add_child(fg)\n",
    "\n",
    "g0 = plugins.FeatureGroupSubGroup(fg, \"group0\")\n",
    "m_4.add_child(g0)\n",
    "\n",
    "g1 = plugins.FeatureGroupSubGroup(fg, \"group1\")\n",
    "m_4.add_child(g1)\n",
    "\n",
    "g2 = plugins.FeatureGroupSubGroup(fg, \"group2\")\n",
    "m_4.add_child(g2)\n",
    "\n",
    "g3 = plugins.FeatureGroupSubGroup(fg, \"group3\")\n",
    "m_4.add_child(g3)\n",
    "\n",
    "g4 = plugins.FeatureGroupSubGroup(fg, \"group4\")\n",
    "m_4.add_child(g4)\n",
    "\n",
    "g5 = plugins.FeatureGroupSubGroup(fg, \"group5\")\n",
    "m_4.add_child(g5)\n",
    "\n",
    "g6 = plugins.FeatureGroupSubGroup(fg, \"group6\")\n",
    "m_4.add_child(g6)\n",
    "\n",
    "\n",
    "grupo0 =df[df.label_kmeans_7_p1_y_p2 == 0].loc[:,['latitud', 'longitud']]\n",
    "\n",
    "for i in range(0,len(grupo0)):\n",
    "   folium.Marker(\n",
    "      location=[grupo0.iloc[i]['latitud'], grupo0.iloc[i]['longitud']],\n",
    "      icon=folium.Icon(color='red')\n",
    "       #popup=data.iloc[i]['name'],\n",
    "   ).add_to(g0)\n",
    "\n",
    "\n",
    "grupo1 =df[df.label_kmeans_7_p1_y_p2 == 1].loc[:,['latitud', 'longitud']]\n",
    "\n",
    "for i in range(0,len(grupo1)):\n",
    " folium.Marker(\n",
    "      location=[grupo1.iloc[i]['latitud'], grupo1.iloc[i]['longitud']],\n",
    "      icon=folium.Icon(color='green')\n",
    "       #popup=data.iloc[i]['name'],\n",
    "   ).add_to(g1)\n",
    "\n",
    "grupo2 =df[df.label_kmeans_7_p1_y_p2 == 2].loc[:,['latitud', 'longitud']]\n",
    "\n",
    "for i in range(0,len(grupo2)):\n",
    "   folium.Marker(\n",
    "      location=[grupo2.iloc[i]['latitud'], grupo2.iloc[i]['longitud']],\n",
    "      icon=folium.Icon(color='orange')\n",
    "       #popup=data.iloc[i]['name'],\n",
    "   ).add_to(g2)\n",
    "\n",
    "grupo3 =df[df.label_kmeans_7_p1_y_p2 == 3].loc[:,['latitud', 'longitud']]\n",
    "\n",
    "for i in range(0,len(grupo3)):\n",
    "   folium.Marker(\n",
    "      location=[grupo3.iloc[i]['latitud'], grupo3.iloc[i]['longitud']],\n",
    "      icon=folium.Icon(color='orange')\n",
    "       #popup=data.iloc[i]['name'],\n",
    "   ).add_to(g3)\n",
    "\n",
    "\n",
    "grupo4 =df[df.label_kmeans_7_p1_y_p2 == 4].loc[:,['latitud', 'longitud']]\n",
    "\n",
    "for i in range(0,len(grupo4)):\n",
    "   folium.Marker(\n",
    "      location=[grupo4.iloc[i]['latitud'], grupo4.iloc[i]['longitud']],\n",
    "      icon=folium.Icon(color='orange')\n",
    "       #popup=data.iloc[i]['name'],\n",
    "   ).add_to(g4)\n",
    "\n",
    "\n",
    "grupo5 =df[df.label_kmeans_7_p1_y_p2 == 5].loc[:,['latitud', 'longitud']]\n",
    "\n",
    "for i in range(0,len(grupo5)):\n",
    "   folium.Marker(\n",
    "      location=[grupo5.iloc[i]['latitud'], grupo5.iloc[i]['longitud']],\n",
    "      icon=folium.Icon(color='orange')\n",
    "       #popup=data.iloc[i]['name'],\n",
    "   ).add_to(g5)\n",
    "\n",
    "grupo6 =df[df.label_kmeans_7_p1_y_p2 == 6].loc[:,['latitud', 'longitud']]\n",
    "\n",
    "for i in range(0,len(grupo6)):\n",
    "   folium.Marker(\n",
    "      location=[grupo6.iloc[i]['latitud'], grupo6.iloc[i]['longitud']],\n",
    "      icon=folium.Icon(color='orange')\n",
    "       #popup=data.iloc[i]['name'],\n",
    "   ).add_to(g6)\n",
    "\n",
    "\n",
    "folium.LayerControl(collapsed=False).add_to(m_4)\n",
    "\n",
    "# m_4"
   ]
  }
 ],
 "metadata": {
  "kernelspec": {
   "display_name": "Python 3",
   "language": "python",
   "name": "python3"
  },
  "language_info": {
   "codemirror_mode": {
    "name": "ipython",
    "version": 3
   },
   "file_extension": ".py",
   "mimetype": "text/x-python",
   "name": "python",
   "nbconvert_exporter": "python",
   "pygments_lexer": "ipython3",
   "version": "3.8.8"
  }
 },
 "nbformat": 4,
 "nbformat_minor": 4
}
